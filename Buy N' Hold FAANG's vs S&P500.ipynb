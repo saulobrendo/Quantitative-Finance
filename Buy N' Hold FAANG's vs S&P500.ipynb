{
 "cells": [
  {
   "cell_type": "markdown",
   "metadata": {},
   "source": [
    "### Buy n' Hold | S&P500 vs FAANG's.\n",
    "#### Período de análise: Janeiro de 2015 até Dezembro de 2020.\n",
    "##### Autor: Saulo Brendo Alves de Jesus \n",
    "##### LinkedIn: linkedin.com/in/saulo-brendo/"
   ]
  },
  {
   "cell_type": "markdown",
   "metadata": {},
   "source": [
    "### Importação de Pacotes "
   ]
  },
  {
   "cell_type": "code",
   "execution_count": null,
   "metadata": {},
   "outputs": [],
   "source": [
    "# Importar pacotes utilizados\n",
    "%matplotlib inline\n",
    "import quantstats as qs \n",
    "import pandas as pd     \n",
    "import numpy as np      \n",
    "import matplotlib as plt\n",
    "from pandas_datareader import data\n",
    "import warnings\n",
    "warnings.simplefilter(\"ignore\")"
   ]
  },
  {
   "cell_type": "markdown",
   "metadata": {},
   "source": [
    "### Obtenção de dados via API do Yahoo Finance"
   ]
  },
  {
   "cell_type": "code",
   "execution_count": null,
   "metadata": {},
   "outputs": [],
   "source": [
    "# Definir os tickers dos ativos\n",
    "tickers = [\"F\", \"AAPL\", \"AMZN\", \"NFLX\", \"GOOG\", \"^GSPC\"]\n",
    "\n",
    "# Solicitação de dados através da API\n",
    "tickers_data=data.DataReader(tickers,'yahoo',start='1/1/2015',end=\"31/12/2020\")['Adj Close']\n",
    "tickers_data.head()"
   ]
  },
  {
   "cell_type": "markdown",
   "metadata": {},
   "source": [
    "### Cálculo de Retornos"
   ]
  },
  {
   "cell_type": "code",
   "execution_count": null,
   "metadata": {},
   "outputs": [],
   "source": [
    "# Obter valor dos retornos diários\n",
    "retornos = tickers_data.pct_change()\n",
    "retornos.head()"
   ]
  },
  {
   "cell_type": "code",
   "execution_count": null,
   "metadata": {},
   "outputs": [],
   "source": [
    "# Obter valores de retornos acumulados\n",
    "retornos_acumulados = (1 + retornos).cumprod()\n",
    "retornos_acumulados.head()"
   ]
  },
  {
   "cell_type": "markdown",
   "metadata": {},
   "source": [
    "### Indexação e Visualização dos Retornos Acumulados"
   ]
  },
  {
   "cell_type": "code",
   "execution_count": null,
   "metadata": {},
   "outputs": [],
   "source": [
    "# Indexação através do método .iloc[]\n",
    "retornos_acumulados.iloc[0] = 1\n",
    "retornos_acumulados.head()"
   ]
  },
  {
   "cell_type": "code",
   "execution_count": null,
   "metadata": {},
   "outputs": [],
   "source": [
    "# Visualização de Retorno Acumulado dos ativos\n",
    "retornos_acumulados.iloc[:, :6].plot(figsize = (15,10))\n",
    "plt.pyplot.xlabel('Data')\n",
    "plt.pyplot.title(\"Gráfico de Retorno Acumulado das FAANG's\")"
   ]
  },
  {
   "cell_type": "markdown",
   "metadata": {},
   "source": [
    "### Cálculo de Retorno das FAANG's"
   ]
  },
  {
   "cell_type": "code",
   "execution_count": null,
   "metadata": {},
   "outputs": [],
   "source": [
    "# Atribuir valor inicial de $1000 para os ativos do Portfólio\n",
    "portfolio = 1000 * retornos_acumulados.iloc[:, :5]\n",
    "portfolio[\"Saldo\"] = portfolio.sum(axis = 1)\n",
    "\n",
    "# Calcular variação dos retornos do Portfólio\n",
    "portfolio[\"Retorno\"] = portfolio[\"Saldo\"].pct_change()\n",
    "portfolio.head()"
   ]
  },
  {
   "cell_type": "markdown",
   "metadata": {},
   "source": [
    "### Comparação e Visualização dos Retornos"
   ]
  },
  {
   "cell_type": "code",
   "execution_count": null,
   "metadata": {},
   "outputs": [],
   "source": [
    "# Criar Data Frame contendo retornos diários do S&P500 e das FAANG's\n",
    "comp_retornos = pd.DataFrame({\n",
    "    'S&P500': retornos[\"^GSPC\"],\n",
    "    'FAANGs': portfolio[\"Retorno\"]\n",
    "})\n",
    "\n",
    "# Calcular os Retornos acumulados\n",
    "comp_retornos = (1 + comp_retornos).cumprod()\n",
    "comp_retornos.head()"
   ]
  },
  {
   "cell_type": "code",
   "execution_count": null,
   "metadata": {},
   "outputs": [],
   "source": [
    "# Visualização de Retorno Acumulado S&P500 vs FAANG's\n",
    "comp_retornos.plot(figsize = (15,10))\n",
    "plt.pyplot.xlabel('Data')\n",
    "plt.pyplot.title(\"Retorno Acumulado | S&P500 vs FAANG's\")"
   ]
  },
  {
   "cell_type": "markdown",
   "metadata": {},
   "source": [
    "### Backtest | Buy n' Hold FAANG's"
   ]
  },
  {
   "cell_type": "code",
   "execution_count": null,
   "metadata": {
    "scrolled": true
   },
   "outputs": [],
   "source": [
    "# Backtest Buy and Hold Portfólio FAANG's\n",
    "qs.reports.basic(portfolio[\"Retorno\"])"
   ]
  },
  {
   "cell_type": "markdown",
   "metadata": {},
   "source": [
    "### Backtest | Buy n' Hold S&P500"
   ]
  },
  {
   "cell_type": "code",
   "execution_count": null,
   "metadata": {
    "scrolled": true
   },
   "outputs": [],
   "source": [
    "# Backtest Buy and Hold do Índice S&P 500 \n",
    "qs.reports.basic(retornos[\"^GSPC\"])"
   ]
  }
 ],
 "metadata": {
  "kernelspec": {
   "display_name": "Python 3",
   "language": "python",
   "name": "python3"
  },
  "language_info": {
   "codemirror_mode": {
    "name": "ipython",
    "version": 3
   },
   "file_extension": ".py",
   "mimetype": "text/x-python",
   "name": "python",
   "nbconvert_exporter": "python",
   "pygments_lexer": "ipython3",
   "version": "3.7.3"
  }
 },
 "nbformat": 4,
 "nbformat_minor": 2
}
